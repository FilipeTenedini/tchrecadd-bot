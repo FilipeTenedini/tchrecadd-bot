{
 "cells": [
  {
   "attachments": {},
   "cell_type": "markdown",
   "id": "b855f961",
   "metadata": {},
   "source": [
    "# USE .PY ARCHIVE"
   ]
  },
  {
   "cell_type": "markdown",
   "id": "e006eb77",
   "metadata": {},
   "source": [
    "# USE .PY ARCHIVE"
   ]
  },
  {
   "cell_type": "code",
   "execution_count": 771,
   "id": "ee05106e",
   "metadata": {},
   "outputs": [],
   "source": [
    "from selenium import webdriver\n",
    "from selenium.webdriver.common.by import By\n",
    "from selenium.webdriver.common.keys import Keys\n",
    "from selenium.webdriver.support.ui import WebDriverWait\n",
    "from selenium.webdriver.support import expected_conditions as EC\n",
    "import time\n",
    "import asyncio\n",
    "\n"
   ]
  },
  {
   "cell_type": "code",
   "execution_count": 772,
   "id": "36efcf26",
   "metadata": {},
   "outputs": [],
   "source": [
    "driver = webdriver.Chrome()\n",
    "driver.get(\"https://www.linkedin.com\")"
   ]
  },
  {
   "cell_type": "code",
   "execution_count": 773,
   "id": "574f8215",
   "metadata": {},
   "outputs": [],
   "source": [
    "login_input = WebDriverWait(driver, 30).until(\n",
    "    EC.visibility_of_element_located((By.XPATH, './/*[@id=\"session_key\"]'))\n",
    ")\n",
    "login_input.clear()\n",
    "login_input.send_keys('')"
   ]
  },
  {
   "cell_type": "code",
   "execution_count": 774,
   "id": "83640beb",
   "metadata": {},
   "outputs": [],
   "source": [
    "password_input = driver.find_element(By.XPATH, './/*[@id=\"session_password\"]')\n",
    "password_input.clear()\n",
    "password_input.send_keys('')"
   ]
  },
  {
   "cell_type": "code",
   "execution_count": 775,
   "id": "7b422e83",
   "metadata": {},
   "outputs": [],
   "source": [
    "enter_button = driver.find_element(By.XPATH, './/*[@id=\"main-content\"]/section[1]/div/div/form/div[2]/button')\n",
    "enter_button.click()"
   ]
  },
  {
   "cell_type": "code",
   "execution_count": 776,
   "id": "5aa5c709",
   "metadata": {},
   "outputs": [],
   "source": [
    "search_bar_input = WebDriverWait(driver, 30).until(\n",
    "    EC.visibility_of_element_located((By.XPATH, '//*[@id=\"global-nav-typeahead\"]/input'))\n",
    ")\n",
    "search_bar_input.clear()\n",
    "search_bar_input.send_keys('Tech Recruiter')\n",
    "search_bar_input.send_keys(Keys.ENTER)"
   ]
  },
  {
   "cell_type": "code",
   "execution_count": 777,
   "id": "972494c0",
   "metadata": {},
   "outputs": [],
   "source": [
    "pessoas_button = WebDriverWait(driver, 30).until(\n",
    "    EC.visibility_of_element_located((By.XPATH, '//*[@id=\"search-reusables__filters-bar\"]/ul/li[1]/button'))\n",
    ")\n",
    "pessoas_button.click()"
   ]
  },
  {
   "cell_type": "code",
   "execution_count": 781,
   "id": "2ce0b7c2",
   "metadata": {
    "scrolled": true
   },
   "outputs": [
    {
     "ename": "ElementClickInterceptedException",
     "evalue": "Message: element click intercepted: Element <span class=\"artdeco-button__text\">...</span> is not clickable at point (614, 314). Other element would receive the click: <p class=\"t-16 p2\">...</p>\n  (Session info: chrome=113.0.5672.127)\nStacktrace:\nBacktrace:\n\tGetHandleVerifier [0x010C8893+48451]\n\t(No symbol) [0x0105B8A1]\n\t(No symbol) [0x00F65058]\n\t(No symbol) [0x00F94BA4]\n\t(No symbol) [0x00F936E8]\n\t(No symbol) [0x00F91EEB]\n\t(No symbol) [0x00F912FE]\n\t(No symbol) [0x00F89AAC]\n\t(No symbol) [0x00FAA2BC]\n\t(No symbol) [0x00F89586]\n\t(No symbol) [0x00FAA614]\n\t(No symbol) [0x00FBC482]\n\t(No symbol) [0x00FAA0B6]\n\t(No symbol) [0x00F87E08]\n\t(No symbol) [0x00F88F2D]\n\tGetHandleVerifier [0x01328E3A+2540266]\n\tGetHandleVerifier [0x01368959+2801161]\n\tGetHandleVerifier [0x0136295C+2776588]\n\tGetHandleVerifier [0x01152280+612144]\n\t(No symbol) [0x01064F6C]\n\t(No symbol) [0x010611D8]\n\t(No symbol) [0x010612BB]\n\t(No symbol) [0x01054857]\n\tBaseThreadInitThunk [0x75D97D59+25]\n\tRtlInitializeExceptionChain [0x7715B74B+107]\n\tRtlClearBits [0x7715B6CF+191]\n",
     "output_type": "error",
     "traceback": [
      "\u001b[1;31m---------------------------------------------------------------------------\u001b[0m",
      "\u001b[1;31mElementClickInterceptedException\u001b[0m          Traceback (most recent call last)",
      "\u001b[1;32m~\\AppData\\Local\\Temp\\ipykernel_47240\\3798864904.py\u001b[0m in \u001b[0;36m<module>\u001b[1;34m\u001b[0m\n\u001b[0;32m     25\u001b[0m     \u001b[0mtime\u001b[0m\u001b[1;33m.\u001b[0m\u001b[0msleep\u001b[0m\u001b[1;33m(\u001b[0m\u001b[1;36m2\u001b[0m\u001b[1;33m)\u001b[0m\u001b[1;33m\u001b[0m\u001b[1;33m\u001b[0m\u001b[0m\n\u001b[0;32m     26\u001b[0m     \u001b[0mNEXT\u001b[0m \u001b[1;33m=\u001b[0m \u001b[0mdriver\u001b[0m\u001b[1;33m.\u001b[0m\u001b[0mfind_elements\u001b[0m\u001b[1;33m(\u001b[0m\u001b[0mBy\u001b[0m\u001b[1;33m.\u001b[0m\u001b[0mCLASS_NAME\u001b[0m\u001b[1;33m,\u001b[0m \u001b[1;34m'artdeco-button__text'\u001b[0m\u001b[1;33m)\u001b[0m\u001b[1;33m[\u001b[0m\u001b[1;33m-\u001b[0m\u001b[1;36m3\u001b[0m\u001b[1;33m]\u001b[0m\u001b[1;33m\u001b[0m\u001b[1;33m\u001b[0m\u001b[0m\n\u001b[1;32m---> 27\u001b[1;33m     \u001b[0mNEXT\u001b[0m\u001b[1;33m.\u001b[0m\u001b[0mclick\u001b[0m\u001b[1;33m(\u001b[0m\u001b[1;33m)\u001b[0m\u001b[1;33m\u001b[0m\u001b[1;33m\u001b[0m\u001b[0m\n\u001b[0m",
      "\u001b[1;32m~\\anaconda3\\lib\\site-packages\\selenium\\webdriver\\remote\\webelement.py\u001b[0m in \u001b[0;36mclick\u001b[1;34m(self)\u001b[0m\n\u001b[0;32m     92\u001b[0m     \u001b[1;32mdef\u001b[0m \u001b[0mclick\u001b[0m\u001b[1;33m(\u001b[0m\u001b[0mself\u001b[0m\u001b[1;33m)\u001b[0m \u001b[1;33m->\u001b[0m \u001b[1;32mNone\u001b[0m\u001b[1;33m:\u001b[0m\u001b[1;33m\u001b[0m\u001b[1;33m\u001b[0m\u001b[0m\n\u001b[0;32m     93\u001b[0m         \u001b[1;34m\"\"\"Clicks the element.\"\"\"\u001b[0m\u001b[1;33m\u001b[0m\u001b[1;33m\u001b[0m\u001b[0m\n\u001b[1;32m---> 94\u001b[1;33m         \u001b[0mself\u001b[0m\u001b[1;33m.\u001b[0m\u001b[0m_execute\u001b[0m\u001b[1;33m(\u001b[0m\u001b[0mCommand\u001b[0m\u001b[1;33m.\u001b[0m\u001b[0mCLICK_ELEMENT\u001b[0m\u001b[1;33m)\u001b[0m\u001b[1;33m\u001b[0m\u001b[1;33m\u001b[0m\u001b[0m\n\u001b[0m\u001b[0;32m     95\u001b[0m \u001b[1;33m\u001b[0m\u001b[0m\n\u001b[0;32m     96\u001b[0m     \u001b[1;32mdef\u001b[0m \u001b[0msubmit\u001b[0m\u001b[1;33m(\u001b[0m\u001b[0mself\u001b[0m\u001b[1;33m)\u001b[0m\u001b[1;33m:\u001b[0m\u001b[1;33m\u001b[0m\u001b[1;33m\u001b[0m\u001b[0m\n",
      "\u001b[1;32m~\\anaconda3\\lib\\site-packages\\selenium\\webdriver\\remote\\webelement.py\u001b[0m in \u001b[0;36m_execute\u001b[1;34m(self, command, params)\u001b[0m\n\u001b[0;32m    402\u001b[0m             \u001b[0mparams\u001b[0m \u001b[1;33m=\u001b[0m \u001b[1;33m{\u001b[0m\u001b[1;33m}\u001b[0m\u001b[1;33m\u001b[0m\u001b[1;33m\u001b[0m\u001b[0m\n\u001b[0;32m    403\u001b[0m         \u001b[0mparams\u001b[0m\u001b[1;33m[\u001b[0m\u001b[1;34m\"id\"\u001b[0m\u001b[1;33m]\u001b[0m \u001b[1;33m=\u001b[0m \u001b[0mself\u001b[0m\u001b[1;33m.\u001b[0m\u001b[0m_id\u001b[0m\u001b[1;33m\u001b[0m\u001b[1;33m\u001b[0m\u001b[0m\n\u001b[1;32m--> 404\u001b[1;33m         \u001b[1;32mreturn\u001b[0m \u001b[0mself\u001b[0m\u001b[1;33m.\u001b[0m\u001b[0m_parent\u001b[0m\u001b[1;33m.\u001b[0m\u001b[0mexecute\u001b[0m\u001b[1;33m(\u001b[0m\u001b[0mcommand\u001b[0m\u001b[1;33m,\u001b[0m \u001b[0mparams\u001b[0m\u001b[1;33m)\u001b[0m\u001b[1;33m\u001b[0m\u001b[1;33m\u001b[0m\u001b[0m\n\u001b[0m\u001b[0;32m    405\u001b[0m \u001b[1;33m\u001b[0m\u001b[0m\n\u001b[0;32m    406\u001b[0m     \u001b[1;32mdef\u001b[0m \u001b[0mfind_element\u001b[0m\u001b[1;33m(\u001b[0m\u001b[0mself\u001b[0m\u001b[1;33m,\u001b[0m \u001b[0mby\u001b[0m\u001b[1;33m=\u001b[0m\u001b[0mBy\u001b[0m\u001b[1;33m.\u001b[0m\u001b[0mID\u001b[0m\u001b[1;33m,\u001b[0m \u001b[0mvalue\u001b[0m\u001b[1;33m=\u001b[0m\u001b[1;32mNone\u001b[0m\u001b[1;33m)\u001b[0m \u001b[1;33m->\u001b[0m \u001b[0mWebElement\u001b[0m\u001b[1;33m:\u001b[0m\u001b[1;33m\u001b[0m\u001b[1;33m\u001b[0m\u001b[0m\n",
      "\u001b[1;32m~\\anaconda3\\lib\\site-packages\\selenium\\webdriver\\remote\\webdriver.py\u001b[0m in \u001b[0;36mexecute\u001b[1;34m(self, driver_command, params)\u001b[0m\n\u001b[0;32m    438\u001b[0m         \u001b[0mresponse\u001b[0m \u001b[1;33m=\u001b[0m \u001b[0mself\u001b[0m\u001b[1;33m.\u001b[0m\u001b[0mcommand_executor\u001b[0m\u001b[1;33m.\u001b[0m\u001b[0mexecute\u001b[0m\u001b[1;33m(\u001b[0m\u001b[0mdriver_command\u001b[0m\u001b[1;33m,\u001b[0m \u001b[0mparams\u001b[0m\u001b[1;33m)\u001b[0m\u001b[1;33m\u001b[0m\u001b[1;33m\u001b[0m\u001b[0m\n\u001b[0;32m    439\u001b[0m         \u001b[1;32mif\u001b[0m \u001b[0mresponse\u001b[0m\u001b[1;33m:\u001b[0m\u001b[1;33m\u001b[0m\u001b[1;33m\u001b[0m\u001b[0m\n\u001b[1;32m--> 440\u001b[1;33m             \u001b[0mself\u001b[0m\u001b[1;33m.\u001b[0m\u001b[0merror_handler\u001b[0m\u001b[1;33m.\u001b[0m\u001b[0mcheck_response\u001b[0m\u001b[1;33m(\u001b[0m\u001b[0mresponse\u001b[0m\u001b[1;33m)\u001b[0m\u001b[1;33m\u001b[0m\u001b[1;33m\u001b[0m\u001b[0m\n\u001b[0m\u001b[0;32m    441\u001b[0m             \u001b[0mresponse\u001b[0m\u001b[1;33m[\u001b[0m\u001b[1;34m\"value\"\u001b[0m\u001b[1;33m]\u001b[0m \u001b[1;33m=\u001b[0m \u001b[0mself\u001b[0m\u001b[1;33m.\u001b[0m\u001b[0m_unwrap_value\u001b[0m\u001b[1;33m(\u001b[0m\u001b[0mresponse\u001b[0m\u001b[1;33m.\u001b[0m\u001b[0mget\u001b[0m\u001b[1;33m(\u001b[0m\u001b[1;34m\"value\"\u001b[0m\u001b[1;33m,\u001b[0m \u001b[1;32mNone\u001b[0m\u001b[1;33m)\u001b[0m\u001b[1;33m)\u001b[0m\u001b[1;33m\u001b[0m\u001b[1;33m\u001b[0m\u001b[0m\n\u001b[0;32m    442\u001b[0m             \u001b[1;32mreturn\u001b[0m \u001b[0mresponse\u001b[0m\u001b[1;33m\u001b[0m\u001b[1;33m\u001b[0m\u001b[0m\n",
      "\u001b[1;32m~\\anaconda3\\lib\\site-packages\\selenium\\webdriver\\remote\\errorhandler.py\u001b[0m in \u001b[0;36mcheck_response\u001b[1;34m(self, response)\u001b[0m\n\u001b[0;32m    243\u001b[0m                 \u001b[0malert_text\u001b[0m \u001b[1;33m=\u001b[0m \u001b[0mvalue\u001b[0m\u001b[1;33m[\u001b[0m\u001b[1;34m\"alert\"\u001b[0m\u001b[1;33m]\u001b[0m\u001b[1;33m.\u001b[0m\u001b[0mget\u001b[0m\u001b[1;33m(\u001b[0m\u001b[1;34m\"text\"\u001b[0m\u001b[1;33m)\u001b[0m\u001b[1;33m\u001b[0m\u001b[1;33m\u001b[0m\u001b[0m\n\u001b[0;32m    244\u001b[0m             \u001b[1;32mraise\u001b[0m \u001b[0mexception_class\u001b[0m\u001b[1;33m(\u001b[0m\u001b[0mmessage\u001b[0m\u001b[1;33m,\u001b[0m \u001b[0mscreen\u001b[0m\u001b[1;33m,\u001b[0m \u001b[0mstacktrace\u001b[0m\u001b[1;33m,\u001b[0m \u001b[0malert_text\u001b[0m\u001b[1;33m)\u001b[0m  \u001b[1;31m# type: ignore[call-arg]  # mypy is not smart enough here\u001b[0m\u001b[1;33m\u001b[0m\u001b[1;33m\u001b[0m\u001b[0m\n\u001b[1;32m--> 245\u001b[1;33m         \u001b[1;32mraise\u001b[0m \u001b[0mexception_class\u001b[0m\u001b[1;33m(\u001b[0m\u001b[0mmessage\u001b[0m\u001b[1;33m,\u001b[0m \u001b[0mscreen\u001b[0m\u001b[1;33m,\u001b[0m \u001b[0mstacktrace\u001b[0m\u001b[1;33m)\u001b[0m\u001b[1;33m\u001b[0m\u001b[1;33m\u001b[0m\u001b[0m\n\u001b[0m",
      "\u001b[1;31mElementClickInterceptedException\u001b[0m: Message: element click intercepted: Element <span class=\"artdeco-button__text\">...</span> is not clickable at point (614, 314). Other element would receive the click: <p class=\"t-16 p2\">...</p>\n  (Session info: chrome=113.0.5672.127)\nStacktrace:\nBacktrace:\n\tGetHandleVerifier [0x010C8893+48451]\n\t(No symbol) [0x0105B8A1]\n\t(No symbol) [0x00F65058]\n\t(No symbol) [0x00F94BA4]\n\t(No symbol) [0x00F936E8]\n\t(No symbol) [0x00F91EEB]\n\t(No symbol) [0x00F912FE]\n\t(No symbol) [0x00F89AAC]\n\t(No symbol) [0x00FAA2BC]\n\t(No symbol) [0x00F89586]\n\t(No symbol) [0x00FAA614]\n\t(No symbol) [0x00FBC482]\n\t(No symbol) [0x00FAA0B6]\n\t(No symbol) [0x00F87E08]\n\t(No symbol) [0x00F88F2D]\n\tGetHandleVerifier [0x01328E3A+2540266]\n\tGetHandleVerifier [0x01368959+2801161]\n\tGetHandleVerifier [0x0136295C+2776588]\n\tGetHandleVerifier [0x01152280+612144]\n\t(No symbol) [0x01064F6C]\n\t(No symbol) [0x010611D8]\n\t(No symbol) [0x010612BB]\n\t(No symbol) [0x01054857]\n\tBaseThreadInitThunk [0x75D97D59+25]\n\tRtlInitializeExceptionChain [0x7715B74B+107]\n\tRtlClearBits [0x7715B6CF+191]\n"
     ]
    }
   ],
   "source": [
    "only_wait = WebDriverWait(driver, 30).until(\n",
    "    EC.visibility_of_element_located((By.CLASS_NAME, 'pb2.t-black--light.t-14'))\n",
    ")\n",
    "driver.execute_script(\"window.scrollTo(0, document.body.scrollHeight);\")\n",
    "time.sleep(2)\n",
    "MAX = driver.find_elements(By.CLASS_NAME, 'artdeco-pagination__indicator.artdeco-pagination__indicator--number.ember-view')[-1].text\n",
    "MAX = int(MAX)\n",
    "for i in range(0, MAX, 1):\n",
    "    only_wait = WebDriverWait(driver, 30).until(\n",
    "        EC.visibility_of_element_located((By.CLASS_NAME, 'pb2.t-black--light.t-14'))\n",
    "    )\n",
    "    time.sleep(2)\n",
    "    buttons_list = driver.find_elements(By.CLASS_NAME, 'artdeco-button.artdeco-button--2.artdeco-button--secondary')\n",
    "    for i, button in enumerate(buttons_list):\n",
    "        try:\n",
    "            if 'Conectar' in button.text and i != 0:\n",
    "                driver.execute_script(\"arguments[0].scrollIntoView({ behavior: 'smooth', block: 'center' });\", button)\n",
    "                button.click()\n",
    "                time.sleep(1)\n",
    "                send_invite = driver.find_element(By.CLASS_NAME, 'artdeco-button.artdeco-button--2.artdeco-button--primary.ember-view.ml1')\n",
    "                send_invite.click()\n",
    "        except:\n",
    "            continue\n",
    "    driver.execute_script(\"window.scrollTo(0, document.body.scrollHeight);\")\n",
    "    time.sleep(2)\n",
    "    NEXT = driver.find_elements(By.CLASS_NAME, 'artdeco-button__text')[-3]\n",
    "    NEXT.click()"
   ]
  },
  {
   "cell_type": "code",
   "execution_count": null,
   "id": "cb527a99",
   "metadata": {},
   "outputs": [],
   "source": []
  }
 ],
 "metadata": {
  "kernelspec": {
   "display_name": "Python 3 (ipykernel)",
   "language": "python",
   "name": "python3"
  },
  "language_info": {
   "codemirror_mode": {
    "name": "ipython",
    "version": 3
   },
   "file_extension": ".py",
   "mimetype": "text/x-python",
   "name": "python",
   "nbconvert_exporter": "python",
   "pygments_lexer": "ipython3",
   "version": "3.9.13"
  }
 },
 "nbformat": 4,
 "nbformat_minor": 5
}
