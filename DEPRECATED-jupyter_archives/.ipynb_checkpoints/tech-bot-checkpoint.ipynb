{
 "cells": [
  {
   "cell_type": "markdown",
   "id": "f95574cb",
   "metadata": {},
   "source": [
    "# USE .PY ARCHIVE"
   ]
  },
  {
   "cell_type": "markdown",
   "id": "e9707b58",
   "metadata": {},
   "source": [
    "# USE .PY ARCHIVE"
   ]
  },
  {
   "cell_type": "code",
   "execution_count": 553,
   "id": "5315a94c",
   "metadata": {},
   "outputs": [],
   "source": [
    "from selenium import webdriver\n",
    "from selenium.webdriver.common.by import By\n",
    "from selenium.webdriver.common.keys import Keys\n",
    "from selenium.webdriver.support.ui import WebDriverWait\n",
    "from selenium.webdriver.support import expected_conditions as EC\n",
    "import time\n"
   ]
  },
  {
   "cell_type": "code",
   "execution_count": 554,
   "id": "0c1c8854",
   "metadata": {},
   "outputs": [],
   "source": [
    "driver = webdriver.Chrome()\n",
    "driver.get(\"https://www.linkedin.com\")"
   ]
  },
  {
   "cell_type": "code",
   "execution_count": 555,
   "id": "d1065ca1",
   "metadata": {},
   "outputs": [],
   "source": [
    "login_input = WebDriverWait(driver, 30).until(\n",
    "    EC.visibility_of_element_located((By.XPATH, './/*[@id=\"session_key\"]'))\n",
    ")\n",
    "login_input.clear()\n",
    "login_input.send_keys('')"
   ]
  },
  {
   "cell_type": "code",
   "execution_count": 556,
   "id": "5e274e1a",
   "metadata": {},
   "outputs": [],
   "source": [
    "password_input = driver.find_element(By.XPATH, './/*[@id=\"session_password\"]')\n",
    "password_input.clear()\n",
    "password_input.send_keys('')"
   ]
  },
  {
   "cell_type": "code",
   "execution_count": 557,
   "id": "22703fe9",
   "metadata": {},
   "outputs": [],
   "source": [
    "enter_button = driver.find_element(By.XPATH, './/*[@id=\"main-content\"]/section[1]/div/div/form/div[2]/button')\n",
    "enter_button.click()"
   ]
  },
  {
   "cell_type": "code",
   "execution_count": 558,
   "id": "8f703bfc",
   "metadata": {},
   "outputs": [],
   "source": [
    "search_bar_input = WebDriverWait(driver, 30).until(\n",
    "    EC.visibility_of_element_located((By.XPATH, '//*[@id=\"global-nav-typeahead\"]/input'))\n",
    ")\n",
    "search_bar_input.clear()\n",
    "search_bar_input.send_keys('Tech Recruiter')\n",
    "search_bar_input.send_keys(Keys.ENTER)"
   ]
  },
  {
   "cell_type": "code",
   "execution_count": 559,
   "id": "d943c750",
   "metadata": {},
   "outputs": [],
   "source": [
    "pessoas_button = WebDriverWait(driver, 30).until(\n",
    "    EC.visibility_of_element_located((By.XPATH, '//*[@id=\"search-reusables__filters-bar\"]/ul/li[1]/button'))\n",
    ")\n",
    "pessoas_button.click()"
   ]
  },
  {
   "cell_type": "code",
   "execution_count": 560,
   "id": "2b9ea046",
   "metadata": {},
   "outputs": [],
   "source": [
    "only_wait = WebDriverWait(driver, 30).until(\n",
    "    EC.visibility_of_element_located((By.CLASS_NAME, 'pb2.t-black--light.t-14'))\n",
    ")\n",
    "driver.execute_script(\"window.scrollTo(0, document.body.scrollHeight);\")"
   ]
  },
  {
   "cell_type": "code",
   "execution_count": null,
   "id": "2409d9b8",
   "metadata": {},
   "outputs": [],
   "source": [
    "#clicar no botão de conectar é o que falta!"
   ]
  }
 ],
 "metadata": {
  "kernelspec": {
   "display_name": "Python 3 (ipykernel)",
   "language": "python",
   "name": "python3"
  },
  "language_info": {
   "codemirror_mode": {
    "name": "ipython",
    "version": 3
   },
   "file_extension": ".py",
   "mimetype": "text/x-python",
   "name": "python",
   "nbconvert_exporter": "python",
   "pygments_lexer": "ipython3",
   "version": "3.9.13"
  }
 },
 "nbformat": 4,
 "nbformat_minor": 5
}
